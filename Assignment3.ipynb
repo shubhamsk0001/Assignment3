{
 "cells": [
  {
   "cell_type": "code",
   "execution_count": null,
   "id": "14af2787",
   "metadata": {},
   "outputs": [],
   "source": [
    "1. Why are functions advantageous to have in your programs?"
   ]
  },
  {
   "cell_type": "code",
   "execution_count": null,
   "id": "d5a4ef0b",
   "metadata": {},
   "outputs": [],
   "source": [
    "The advantages of function are:-\n",
    "Functions reduce the need for duplicate code. \n",
    "Functiion makes programs shorter, easier to read, and easier to update.\n",
    "Function also improves reusability of the code."
   ]
  },
  {
   "cell_type": "code",
   "execution_count": null,
   "id": "23f109ee",
   "metadata": {},
   "outputs": [],
   "source": [
    "2. When does the code in a function run: when it's specified or when it's called?"
   ]
  },
  {
   "cell_type": "code",
   "execution_count": null,
   "id": "352b6279",
   "metadata": {},
   "outputs": [],
   "source": [
    "The code in a function run when it's called."
   ]
  },
  {
   "cell_type": "code",
   "execution_count": null,
   "id": "fda9aa9c",
   "metadata": {},
   "outputs": [],
   "source": [
    "3. What statement creates a function?"
   ]
  },
  {
   "cell_type": "code",
   "execution_count": null,
   "id": "5e0b55de",
   "metadata": {},
   "outputs": [],
   "source": [
    "A statement of function is defined by using the def keyword, followed by a name of your choosing, followed by a set of \n",
    "parentheses which hold any parameters the function will take (they can be empty)."
   ]
  },
  {
   "cell_type": "code",
   "execution_count": null,
   "id": "31b46e22",
   "metadata": {},
   "outputs": [],
   "source": [
    "4. What is the difference between a function and a function call?"
   ]
  },
  {
   "cell_type": "code",
   "execution_count": null,
   "id": "44241c19",
   "metadata": {},
   "outputs": [],
   "source": [
    "A function is a block of code that does a particular operation and returns a result. It usually accepts inputs \n",
    "as parameters and returns a result. The parameters are not mandatory.\n",
    "whereas\n",
    "A function call is the code used to pass control to a function."
   ]
  },
  {
   "cell_type": "code",
   "execution_count": null,
   "id": "a51a314a",
   "metadata": {},
   "outputs": [],
   "source": [
    "5. How many global scopes are there in a Python program? How many local scopes?"
   ]
  },
  {
   "cell_type": "code",
   "execution_count": null,
   "id": "37846aee",
   "metadata": {},
   "outputs": [],
   "source": [
    "There's only one global Python scope per program execution. This scope remains in \n",
    "existence until the program terminates and all its names are forgotten.\n",
    "Otherwise, the next time you were to run the program, the names would remember their values from the previous run.\n",
    "whereas\n",
    "There can be same no of local variable as many as function in a program generally."
   ]
  },
  {
   "cell_type": "code",
   "execution_count": null,
   "id": "212df2d0",
   "metadata": {},
   "outputs": [],
   "source": [
    "6. What happens to variables in a local scope when the function call returns?"
   ]
  },
  {
   "cell_type": "code",
   "execution_count": null,
   "id": "a529e113",
   "metadata": {},
   "outputs": [],
   "source": [
    "When the execution of the function terminates (returns), the local variables are destroyed."
   ]
  },
  {
   "cell_type": "code",
   "execution_count": null,
   "id": "3111f86e",
   "metadata": {},
   "outputs": [],
   "source": [
    "7. What is the concept of a return value? Is it possible to have a return value in an expression?"
   ]
  },
  {
   "cell_type": "code",
   "execution_count": null,
   "id": "b8112fdd",
   "metadata": {},
   "outputs": [],
   "source": [
    "A return is a value that a function returns to the calling function when it completes its task.\n",
    "A return value can be any one of the followingvariable types: integer, object, or string. \n",
    "The type of value your function returns depends largely on the task it performs.\n",
    "No, It is not possible to have an experession as a return value."
   ]
  },
  {
   "cell_type": "code",
   "execution_count": null,
   "id": "4f974da2",
   "metadata": {},
   "outputs": [],
   "source": [
    "8. If a function does not have a return statement, what is the return value of a call to that function?"
   ]
  },
  {
   "cell_type": "code",
   "execution_count": null,
   "id": "88f63147",
   "metadata": {},
   "outputs": [],
   "source": [
    "If no return statement appears in a function definition, control automatically returns to the calling function\n",
    "after the last statement of the called function is executed. In this case, the return value of the called function \n",
    "is undefined."
   ]
  },
  {
   "cell_type": "code",
   "execution_count": null,
   "id": "fc973df7",
   "metadata": {},
   "outputs": [],
   "source": [
    "9. How do you make a function variable refer to the global variable?"
   ]
  },
  {
   "cell_type": "code",
   "execution_count": null,
   "id": "5cffb1d5",
   "metadata": {},
   "outputs": [],
   "source": [
    "A variable can be made a global variable by adding global before the variable."
   ]
  },
  {
   "cell_type": "code",
   "execution_count": null,
   "id": "1ec34440",
   "metadata": {},
   "outputs": [],
   "source": [
    "10. What is the data type of None?"
   ]
  },
  {
   "cell_type": "code",
   "execution_count": null,
   "id": "8ac2a7e7",
   "metadata": {},
   "outputs": [],
   "source": [
    "None is a data type that does not contains data of any type. None is a data type of its own (NoneType)\n",
    "and only None can be None."
   ]
  },
  {
   "cell_type": "code",
   "execution_count": null,
   "id": "d4c824c0",
   "metadata": {},
   "outputs": [],
   "source": [
    "11. What does the sentence import areallyourpetsnamederic do?"
   ]
  },
  {
   "cell_type": "code",
   "execution_count": null,
   "id": "42ec3a46",
   "metadata": {},
   "outputs": [],
   "source": [
    "The import areallyourpetsnamederic statement imports a module named areallyourpetsnamederic. "
   ]
  },
  {
   "cell_type": "code",
   "execution_count": null,
   "id": "0b8710d0",
   "metadata": {},
   "outputs": [],
   "source": [
    "12. If you had a bacon() feature in a spam module, what would you call it after importing spam?"
   ]
  },
  {
   "cell_type": "code",
   "execution_count": null,
   "id": "37c0876e",
   "metadata": {},
   "outputs": [],
   "source": [
    "After importing spam,The function can be called with spam.bacon()."
   ]
  },
  {
   "cell_type": "code",
   "execution_count": null,
   "id": "aa3c9307",
   "metadata": {},
   "outputs": [],
   "source": [
    "13. What can you do to save a programme from crashing if it encounters an error?"
   ]
  },
  {
   "cell_type": "code",
   "execution_count": null,
   "id": "628aa9de",
   "metadata": {},
   "outputs": [],
   "source": [
    "A program can be saved from crashing even if it encounters an error by putting the statement in a try clause."
   ]
  },
  {
   "cell_type": "code",
   "execution_count": null,
   "id": "ae9eba34",
   "metadata": {},
   "outputs": [],
   "source": [
    "14. What is the purpose of the try clause? What is the purpose of the except clause?"
   ]
  },
  {
   "cell_type": "code",
   "execution_count": null,
   "id": "88135833",
   "metadata": {},
   "outputs": [],
   "source": [
    "In try clause,The code that could potentially cause an error goes in the try clause.\n",
    "In except clause The code that executes if an error happens goes in the except clause."
   ]
  }
 ],
 "metadata": {
  "kernelspec": {
   "display_name": "Python 3 (ipykernel)",
   "language": "python",
   "name": "python3"
  },
  "language_info": {
   "codemirror_mode": {
    "name": "ipython",
    "version": 3
   },
   "file_extension": ".py",
   "mimetype": "text/x-python",
   "name": "python",
   "nbconvert_exporter": "python",
   "pygments_lexer": "ipython3",
   "version": "3.9.12"
  }
 },
 "nbformat": 4,
 "nbformat_minor": 5
}
